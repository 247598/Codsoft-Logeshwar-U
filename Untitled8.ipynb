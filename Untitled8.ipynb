{
  "nbformat": 4,
  "nbformat_minor": 0,
  "metadata": {
    "colab": {
      "provenance": [],
      "authorship_tag": "ABX9TyPPzUB5YHdraTl2pLXXGgQq",
      "include_colab_link": true
    },
    "kernelspec": {
      "name": "python3",
      "display_name": "Python 3"
    },
    "language_info": {
      "name": "python"
    }
  },
  "cells": [
    {
      "cell_type": "markdown",
      "metadata": {
        "id": "view-in-github",
        "colab_type": "text"
      },
      "source": [
        "<a href=\"https://colab.research.google.com/github/247598/Codsoft-Logeshwar-U/blob/main/Untitled8.ipynb\" target=\"_parent\"><img src=\"https://colab.research.google.com/assets/colab-badge.svg\" alt=\"Open In Colab\"/></a>"
      ]
    },
    {
      "cell_type": "code",
      "execution_count": 2,
      "metadata": {
        "colab": {
          "base_uri": "https://localhost:8080/",
          "height": 106
        },
        "id": "NsRgtuzrGFpE",
        "outputId": "5b75e56d-8218-4eb6-86ce-5b65030bca17"
      },
      "outputs": [
        {
          "output_type": "error",
          "ename": "SyntaxError",
          "evalue": "invalid syntax (<ipython-input-2-ef372724bf40>, line 1)",
          "traceback": [
            "\u001b[0;36m  File \u001b[0;32m\"<ipython-input-2-ef372724bf40>\"\u001b[0;36m, line \u001b[0;32m1\u001b[0m\n\u001b[0;31m    https://github.com/jaykali/shellphish.git\u001b[0m\n\u001b[0m          ^\u001b[0m\n\u001b[0;31mSyntaxError\u001b[0m\u001b[0;31m:\u001b[0m invalid syntax\n"
          ]
        }
      ],
      "source": [
        "https://github.com/jaykali/shellphish.git"
      ]
    },
    {
      "cell_type": "code",
      "source": [
        "# prompt: https://github.com/jaykali/shellphish.github\n",
        "\n",
        "!git clone https://github.com/jaykali/shellphish.git\n"
      ],
      "metadata": {
        "colab": {
          "base_uri": "https://localhost:8080/"
        },
        "id": "iJahkyrLGymJ",
        "outputId": "3d6933e8-cc3f-4c4f-efa0-04e2ac4453a7"
      },
      "execution_count": 3,
      "outputs": [
        {
          "output_type": "stream",
          "name": "stdout",
          "text": [
            "Cloning into 'shellphish'...\n",
            "remote: Enumerating objects: 308, done.\u001b[K\n",
            "remote: Counting objects:  20% (1/5)\u001b[K\rremote: Counting objects:  40% (2/5)\u001b[K\rremote: Counting objects:  60% (3/5)\u001b[K\rremote: Counting objects:  80% (4/5)\u001b[K\rremote: Counting objects: 100% (5/5)\u001b[K\rremote: Counting objects: 100% (5/5), done.\u001b[K\n",
            "remote: Compressing objects: 100% (5/5), done.\u001b[K\n",
            "remote: Total 308 (delta 1), reused 0 (delta 0), pack-reused 303 (from 1)\u001b[K\n",
            "Receiving objects: 100% (308/308), 8.28 MiB | 15.61 MiB/s, done.\n",
            "Resolving deltas: 100% (54/54), done.\n"
          ]
        }
      ]
    },
    {
      "cell_type": "code",
      "source": [
        "!apt-get install php"
      ],
      "metadata": {
        "colab": {
          "base_uri": "https://localhost:8080/"
        },
        "id": "5dXaOX7oHAHM",
        "outputId": "ad4c97fe-f020-4ad4-c921-7c705ccde057"
      },
      "execution_count": 4,
      "outputs": [
        {
          "output_type": "stream",
          "name": "stdout",
          "text": [
            "Reading package lists... Done\n",
            "Building dependency tree... Done\n",
            "Reading state information... Done\n",
            "The following additional packages will be installed:\n",
            "  apache2 apache2-bin apache2-data apache2-utils libapache2-mod-php8.1 libapr1 libaprutil1\n",
            "  libaprutil1-dbd-sqlite3 libaprutil1-ldap libjansson4 liblua5.3-0 php-common php8.1 php8.1-cli\n",
            "  php8.1-common php8.1-opcache php8.1-readline ssl-cert\n",
            "Suggested packages:\n",
            "  apache2-doc apache2-suexec-pristine | apache2-suexec-custom www-browser ufw php-pear\n",
            "The following NEW packages will be installed:\n",
            "  apache2 apache2-bin apache2-data apache2-utils libapache2-mod-php8.1 libapr1 libaprutil1\n",
            "  libaprutil1-dbd-sqlite3 libaprutil1-ldap libjansson4 liblua5.3-0 php php-common php8.1 php8.1-cli\n",
            "  php8.1-common php8.1-opcache php8.1-readline ssl-cert\n",
            "0 upgraded, 19 newly installed, 0 to remove and 29 not upgraded.\n",
            "Need to get 7,239 kB of archives.\n",
            "After this operation, 29.7 MB of additional disk space will be used.\n",
            "Get:1 http://archive.ubuntu.com/ubuntu jammy-updates/main amd64 libapr1 amd64 1.7.0-8ubuntu0.22.04.2 [108 kB]\n",
            "Get:2 http://archive.ubuntu.com/ubuntu jammy-updates/main amd64 libaprutil1 amd64 1.6.1-5ubuntu4.22.04.2 [92.8 kB]\n",
            "Get:3 http://archive.ubuntu.com/ubuntu jammy-updates/main amd64 libaprutil1-dbd-sqlite3 amd64 1.6.1-5ubuntu4.22.04.2 [11.3 kB]\n",
            "Get:4 http://archive.ubuntu.com/ubuntu jammy-updates/main amd64 libaprutil1-ldap amd64 1.6.1-5ubuntu4.22.04.2 [9,170 B]\n",
            "Get:5 http://archive.ubuntu.com/ubuntu jammy/main amd64 libjansson4 amd64 2.13.1-1.1build3 [32.4 kB]\n",
            "Get:6 http://archive.ubuntu.com/ubuntu jammy/main amd64 liblua5.3-0 amd64 5.3.6-1build1 [140 kB]\n",
            "Get:7 http://archive.ubuntu.com/ubuntu jammy-updates/main amd64 apache2-bin amd64 2.4.52-1ubuntu4.13 [1,348 kB]\n",
            "Get:8 http://archive.ubuntu.com/ubuntu jammy-updates/main amd64 apache2-data all 2.4.52-1ubuntu4.13 [165 kB]\n",
            "Get:9 http://archive.ubuntu.com/ubuntu jammy-updates/main amd64 apache2-utils amd64 2.4.52-1ubuntu4.13 [89.0 kB]\n",
            "Get:10 http://archive.ubuntu.com/ubuntu jammy-updates/main amd64 apache2 amd64 2.4.52-1ubuntu4.13 [97.9 kB]\n",
            "Get:11 http://archive.ubuntu.com/ubuntu jammy/main amd64 php-common all 2:92ubuntu1 [12.4 kB]\n",
            "Get:12 http://archive.ubuntu.com/ubuntu jammy-updates/main amd64 php8.1-common amd64 8.1.2-1ubuntu2.20 [1,127 kB]\n",
            "Get:13 http://archive.ubuntu.com/ubuntu jammy-updates/main amd64 php8.1-opcache amd64 8.1.2-1ubuntu2.20 [365 kB]\n",
            "Get:14 http://archive.ubuntu.com/ubuntu jammy-updates/main amd64 php8.1-readline amd64 8.1.2-1ubuntu2.20 [13.5 kB]\n",
            "Get:15 http://archive.ubuntu.com/ubuntu jammy-updates/main amd64 php8.1-cli amd64 8.1.2-1ubuntu2.20 [1,833 kB]\n",
            "Get:16 http://archive.ubuntu.com/ubuntu jammy-updates/main amd64 libapache2-mod-php8.1 amd64 8.1.2-1ubuntu2.20 [1,765 kB]\n",
            "Get:17 http://archive.ubuntu.com/ubuntu jammy-updates/main amd64 php8.1 all 8.1.2-1ubuntu2.20 [9,162 B]\n",
            "Get:18 http://archive.ubuntu.com/ubuntu jammy/main amd64 php all 2:8.1+92ubuntu1 [2,756 B]\n",
            "Get:19 http://archive.ubuntu.com/ubuntu jammy/main amd64 ssl-cert all 1.1.2 [17.4 kB]\n",
            "Fetched 7,239 kB in 2s (4,677 kB/s)\n",
            "Preconfiguring packages ...\n",
            "Selecting previously unselected package libapr1:amd64.\n",
            "(Reading database ... 124947 files and directories currently installed.)\n",
            "Preparing to unpack .../00-libapr1_1.7.0-8ubuntu0.22.04.2_amd64.deb ...\n",
            "Unpacking libapr1:amd64 (1.7.0-8ubuntu0.22.04.2) ...\n",
            "Selecting previously unselected package libaprutil1:amd64.\n",
            "Preparing to unpack .../01-libaprutil1_1.6.1-5ubuntu4.22.04.2_amd64.deb ...\n",
            "Unpacking libaprutil1:amd64 (1.6.1-5ubuntu4.22.04.2) ...\n",
            "Selecting previously unselected package libaprutil1-dbd-sqlite3:amd64.\n",
            "Preparing to unpack .../02-libaprutil1-dbd-sqlite3_1.6.1-5ubuntu4.22.04.2_amd64.deb ...\n",
            "Unpacking libaprutil1-dbd-sqlite3:amd64 (1.6.1-5ubuntu4.22.04.2) ...\n",
            "Selecting previously unselected package libaprutil1-ldap:amd64.\n",
            "Preparing to unpack .../03-libaprutil1-ldap_1.6.1-5ubuntu4.22.04.2_amd64.deb ...\n",
            "Unpacking libaprutil1-ldap:amd64 (1.6.1-5ubuntu4.22.04.2) ...\n",
            "Selecting previously unselected package libjansson4:amd64.\n",
            "Preparing to unpack .../04-libjansson4_2.13.1-1.1build3_amd64.deb ...\n",
            "Unpacking libjansson4:amd64 (2.13.1-1.1build3) ...\n",
            "Selecting previously unselected package liblua5.3-0:amd64.\n",
            "Preparing to unpack .../05-liblua5.3-0_5.3.6-1build1_amd64.deb ...\n",
            "Unpacking liblua5.3-0:amd64 (5.3.6-1build1) ...\n",
            "Selecting previously unselected package apache2-bin.\n",
            "Preparing to unpack .../06-apache2-bin_2.4.52-1ubuntu4.13_amd64.deb ...\n",
            "Unpacking apache2-bin (2.4.52-1ubuntu4.13) ...\n",
            "Selecting previously unselected package apache2-data.\n",
            "Preparing to unpack .../07-apache2-data_2.4.52-1ubuntu4.13_all.deb ...\n",
            "Unpacking apache2-data (2.4.52-1ubuntu4.13) ...\n",
            "Selecting previously unselected package apache2-utils.\n",
            "Preparing to unpack .../08-apache2-utils_2.4.52-1ubuntu4.13_amd64.deb ...\n",
            "Unpacking apache2-utils (2.4.52-1ubuntu4.13) ...\n",
            "Selecting previously unselected package apache2.\n",
            "Preparing to unpack .../09-apache2_2.4.52-1ubuntu4.13_amd64.deb ...\n",
            "Unpacking apache2 (2.4.52-1ubuntu4.13) ...\n",
            "Selecting previously unselected package php-common.\n",
            "Preparing to unpack .../10-php-common_2%3a92ubuntu1_all.deb ...\n",
            "Unpacking php-common (2:92ubuntu1) ...\n",
            "Selecting previously unselected package php8.1-common.\n",
            "Preparing to unpack .../11-php8.1-common_8.1.2-1ubuntu2.20_amd64.deb ...\n",
            "Unpacking php8.1-common (8.1.2-1ubuntu2.20) ...\n",
            "Selecting previously unselected package php8.1-opcache.\n",
            "Preparing to unpack .../12-php8.1-opcache_8.1.2-1ubuntu2.20_amd64.deb ...\n",
            "Unpacking php8.1-opcache (8.1.2-1ubuntu2.20) ...\n",
            "Selecting previously unselected package php8.1-readline.\n",
            "Preparing to unpack .../13-php8.1-readline_8.1.2-1ubuntu2.20_amd64.deb ...\n",
            "Unpacking php8.1-readline (8.1.2-1ubuntu2.20) ...\n",
            "Selecting previously unselected package php8.1-cli.\n",
            "Preparing to unpack .../14-php8.1-cli_8.1.2-1ubuntu2.20_amd64.deb ...\n",
            "Unpacking php8.1-cli (8.1.2-1ubuntu2.20) ...\n",
            "Selecting previously unselected package libapache2-mod-php8.1.\n",
            "Preparing to unpack .../15-libapache2-mod-php8.1_8.1.2-1ubuntu2.20_amd64.deb ...\n",
            "Unpacking libapache2-mod-php8.1 (8.1.2-1ubuntu2.20) ...\n",
            "Selecting previously unselected package php8.1.\n",
            "Preparing to unpack .../16-php8.1_8.1.2-1ubuntu2.20_all.deb ...\n",
            "Unpacking php8.1 (8.1.2-1ubuntu2.20) ...\n",
            "Selecting previously unselected package php.\n",
            "Preparing to unpack .../17-php_2%3a8.1+92ubuntu1_all.deb ...\n",
            "Unpacking php (2:8.1+92ubuntu1) ...\n",
            "Selecting previously unselected package ssl-cert.\n",
            "Preparing to unpack .../18-ssl-cert_1.1.2_all.deb ...\n",
            "Unpacking ssl-cert (1.1.2) ...\n",
            "Setting up php-common (2:92ubuntu1) ...\n",
            "Created symlink /etc/systemd/system/timers.target.wants/phpsessionclean.timer → /lib/systemd/system/phpsessionclean.timer.\n",
            "Setting up php8.1-common (8.1.2-1ubuntu2.20) ...\n",
            "\n",
            "Creating config file /etc/php/8.1/mods-available/calendar.ini with new version\n",
            "\n",
            "Creating config file /etc/php/8.1/mods-available/ctype.ini with new version\n",
            "\n",
            "Creating config file /etc/php/8.1/mods-available/exif.ini with new version\n",
            "\n",
            "Creating config file /etc/php/8.1/mods-available/fileinfo.ini with new version\n",
            "\n",
            "Creating config file /etc/php/8.1/mods-available/ffi.ini with new version\n",
            "\n",
            "Creating config file /etc/php/8.1/mods-available/ftp.ini with new version\n",
            "\n",
            "Creating config file /etc/php/8.1/mods-available/gettext.ini with new version\n",
            "\n",
            "Creating config file /etc/php/8.1/mods-available/iconv.ini with new version\n",
            "\n",
            "Creating config file /etc/php/8.1/mods-available/pdo.ini with new version\n",
            "\n",
            "Creating config file /etc/php/8.1/mods-available/phar.ini with new version\n",
            "\n",
            "Creating config file /etc/php/8.1/mods-available/posix.ini with new version\n",
            "\n",
            "Creating config file /etc/php/8.1/mods-available/shmop.ini with new version\n",
            "\n",
            "Creating config file /etc/php/8.1/mods-available/sockets.ini with new version\n",
            "\n",
            "Creating config file /etc/php/8.1/mods-available/sysvmsg.ini with new version\n",
            "\n",
            "Creating config file /etc/php/8.1/mods-available/sysvsem.ini with new version\n",
            "\n",
            "Creating config file /etc/php/8.1/mods-available/sysvshm.ini with new version\n",
            "\n",
            "Creating config file /etc/php/8.1/mods-available/tokenizer.ini with new version\n",
            "Setting up libapr1:amd64 (1.7.0-8ubuntu0.22.04.2) ...\n",
            "Setting up libjansson4:amd64 (2.13.1-1.1build3) ...\n",
            "Setting up ssl-cert (1.1.2) ...\n",
            "Setting up liblua5.3-0:amd64 (5.3.6-1build1) ...\n",
            "Setting up php8.1-readline (8.1.2-1ubuntu2.20) ...\n",
            "\n",
            "Creating config file /etc/php/8.1/mods-available/readline.ini with new version\n",
            "Setting up apache2-data (2.4.52-1ubuntu4.13) ...\n",
            "Setting up php8.1-opcache (8.1.2-1ubuntu2.20) ...\n",
            "\n",
            "Creating config file /etc/php/8.1/mods-available/opcache.ini with new version\n",
            "Setting up libaprutil1:amd64 (1.6.1-5ubuntu4.22.04.2) ...\n",
            "Setting up libaprutil1-ldap:amd64 (1.6.1-5ubuntu4.22.04.2) ...\n",
            "Setting up libaprutil1-dbd-sqlite3:amd64 (1.6.1-5ubuntu4.22.04.2) ...\n",
            "Setting up php8.1-cli (8.1.2-1ubuntu2.20) ...\n",
            "update-alternatives: using /usr/bin/php8.1 to provide /usr/bin/php (php) in auto mode\n",
            "update-alternatives: using /usr/bin/phar8.1 to provide /usr/bin/phar (phar) in auto mode\n",
            "update-alternatives: using /usr/bin/phar.phar8.1 to provide /usr/bin/phar.phar (phar.phar) in auto mode\n",
            "\n",
            "Creating config file /etc/php/8.1/cli/php.ini with new version\n",
            "Setting up apache2-utils (2.4.52-1ubuntu4.13) ...\n",
            "Setting up apache2-bin (2.4.52-1ubuntu4.13) ...\n",
            "Setting up libapache2-mod-php8.1 (8.1.2-1ubuntu2.20) ...\n",
            "Package apache2 is not configured yet. Will defer actions by package libapache2-mod-php8.1.\n",
            "\n",
            "Creating config file /etc/php/8.1/apache2/php.ini with new version\n",
            "No module matches \n",
            "Setting up apache2 (2.4.52-1ubuntu4.13) ...\n",
            "Enabling module mpm_event.\n",
            "Enabling module authz_core.\n",
            "Enabling module authz_host.\n",
            "Enabling module authn_core.\n",
            "Enabling module auth_basic.\n",
            "Enabling module access_compat.\n",
            "Enabling module authn_file.\n",
            "Enabling module authz_user.\n",
            "Enabling module alias.\n",
            "Enabling module dir.\n",
            "Enabling module autoindex.\n",
            "Enabling module env.\n",
            "Enabling module mime.\n",
            "Enabling module negotiation.\n",
            "Enabling module setenvif.\n",
            "Enabling module filter.\n",
            "Enabling module deflate.\n",
            "Enabling module status.\n",
            "Enabling module reqtimeout.\n",
            "Enabling conf charset.\n",
            "Enabling conf localized-error-pages.\n",
            "Enabling conf other-vhosts-access-log.\n",
            "Enabling conf security.\n",
            "Enabling conf serve-cgi-bin.\n",
            "Enabling site 000-default.\n",
            "info: Switch to mpm prefork for package libapache2-mod-php8.1\n",
            "Module mpm_event disabled.\n",
            "Enabling module mpm_prefork.\n",
            "info: Executing deferred 'a2enmod php8.1' for package libapache2-mod-php8.1\n",
            "Enabling module php8.1.\n",
            "invoke-rc.d: could not determine current runlevel\n",
            "invoke-rc.d: policy-rc.d denied execution of start.\n",
            "Created symlink /etc/systemd/system/multi-user.target.wants/apache2.service → /lib/systemd/system/apache2.service.\n",
            "Created symlink /etc/systemd/system/multi-user.target.wants/apache-htcacheclean.service → /lib/systemd/system/apache-htcacheclean.service.\n",
            "Setting up php8.1 (8.1.2-1ubuntu2.20) ...\n",
            "Setting up php (2:8.1+92ubuntu1) ...\n",
            "Processing triggers for man-db (2.10.2-1) ...\n",
            "Processing triggers for libc-bin (2.35-0ubuntu3.8) ...\n",
            "/sbin/ldconfig.real: /usr/local/lib/libtbbbind_2_5.so.3 is not a symbolic link\n",
            "\n",
            "/sbin/ldconfig.real: /usr/local/lib/libtcm.so.1 is not a symbolic link\n",
            "\n",
            "/sbin/ldconfig.real: /usr/local/lib/libtbbbind.so.3 is not a symbolic link\n",
            "\n",
            "/sbin/ldconfig.real: /usr/local/lib/libtbbbind_2_0.so.3 is not a symbolic link\n",
            "\n",
            "/sbin/ldconfig.real: /usr/local/lib/libur_adapter_opencl.so.0 is not a symbolic link\n",
            "\n",
            "/sbin/ldconfig.real: /usr/local/lib/libtbbmalloc.so.2 is not a symbolic link\n",
            "\n",
            "/sbin/ldconfig.real: /usr/local/lib/libtbbmalloc_proxy.so.2 is not a symbolic link\n",
            "\n",
            "/sbin/ldconfig.real: /usr/local/lib/libhwloc.so.15 is not a symbolic link\n",
            "\n",
            "/sbin/ldconfig.real: /usr/local/lib/libtbb.so.12 is not a symbolic link\n",
            "\n",
            "/sbin/ldconfig.real: /usr/local/lib/libur_loader.so.0 is not a symbolic link\n",
            "\n",
            "/sbin/ldconfig.real: /usr/local/lib/libumf.so.0 is not a symbolic link\n",
            "\n",
            "/sbin/ldconfig.real: /usr/local/lib/libur_adapter_level_zero.so.0 is not a symbolic link\n",
            "\n",
            "/sbin/ldconfig.real: /usr/local/lib/libtcm_debug.so.1 is not a symbolic link\n",
            "\n",
            "Processing triggers for php8.1-cli (8.1.2-1ubuntu2.20) ...\n",
            "Processing triggers for libapache2-mod-php8.1 (8.1.2-1ubuntu2.20) ...\n",
            "invoke-rc.d: could not determine current runlevel\n",
            "invoke-rc.d: policy-rc.d denied execution of restart.\n"
          ]
        }
      ]
    },
    {
      "cell_type": "code",
      "source": [
        "!bash shellphish.sh"
      ],
      "metadata": {
        "colab": {
          "base_uri": "https://localhost:8080/"
        },
        "id": "20cugwO_HOwq",
        "outputId": "20130f0d-dd88-4062-a6fb-993c1607efe9"
      },
      "execution_count": 6,
      "outputs": [
        {
          "output_type": "stream",
          "name": "stdout",
          "text": [
            "bash: shellphish.sh: No such file or directory\n"
          ]
        }
      ]
    },
    {
      "cell_type": "code",
      "source": [
        "!apt-get install php"
      ],
      "metadata": {
        "colab": {
          "base_uri": "https://localhost:8080/"
        },
        "id": "ZF-zv9BWHW9T",
        "outputId": "f017d763-dc74-45a5-d643-fafecb62be74"
      },
      "execution_count": 7,
      "outputs": [
        {
          "output_type": "stream",
          "name": "stdout",
          "text": [
            "Reading package lists... Done\n",
            "Building dependency tree... Done\n",
            "Reading state information... Done\n",
            "php is already the newest version (2:8.1+92ubuntu1).\n",
            "0 upgraded, 0 newly installed, 0 to remove and 29 not upgraded.\n"
          ]
        }
      ]
    },
    {
      "cell_type": "code",
      "source": [
        "cd shellphish"
      ],
      "metadata": {
        "colab": {
          "base_uri": "https://localhost:8080/"
        },
        "id": "UyxiRR4UHe5V",
        "outputId": "970d4dbd-b180-4a37-884e-bd7bc83af7a1"
      },
      "execution_count": 9,
      "outputs": [
        {
          "output_type": "stream",
          "name": "stdout",
          "text": [
            "/content/shellphish\n"
          ]
        }
      ]
    },
    {
      "cell_type": "code",
      "source": [
        "!bash shellphish.sh"
      ],
      "metadata": {
        "colab": {
          "base_uri": "https://localhost:8080/"
        },
        "id": "mwKdSNm2HgqF",
        "outputId": "ed647bc3-759b-4076-c645-5eaa5f78fd83"
      },
      "execution_count": null,
      "outputs": [
        {
          "output_type": "stream",
          "name": "stdout",
          "text": [
            "\u001b[1;77m     _     _             _  _  ______   _      _        _      \u001b[0m\n",
            "\u001b[1;77m    | |   | |           | || |(_____ \\ | |    (_)      | |     \u001b[0m\n",
            "\u001b[1;77m     \\ \\  | | _    ____ | || | _____) )| | _   _   ___ | | _   \u001b[0m\n",
            "\u001b[1;77m      \\ \\ | || \\  / _  )| || ||  ____/ | || \\ | | /___)| || \\  \u001b[0m\n",
            "\u001b[1;77m  _____) )| | | |( (/ / | || || |      | | | || ||___ || | | | \u001b[0m\n",
            "\u001b[1;77m (______/ |_| |_| \\____)|_||_||_|      |_| |_||_|(___/ |_| |_| v1.8\u001b[0m\n",
            "\n",
            "\u001b[1;93m       .:.:.\u001b[0m\u001b[1;77m Phishing Tool Originally coded by:  @linux_choice \u001b[0m\u001b[1;93m.:.:.\u001b[0m\n",
            "\u001b[1;93m       .:.:.\u001b[0m\u001b[1;77m Phishing Tool re-uploaded by: kalilinux.In \u001b[0m\u001b[1;93m.:.:.\u001b[0m\n",
            "\n",
            "  \u001b[101m\u001b[1;77m:: Disclaimer: Developers assume no liability and are not    ::\u001b[0m\n",
            "  \u001b[101m\u001b[1;77m:: responsible for any misuse or damage caused by ShellPhish ::\u001b[0m\n",
            "\n",
            "\u001b[1;92m[\u001b[0m\u001b[1;77m01\u001b[0m\u001b[1;92m]\u001b[0m\u001b[1;93m Instagram\u001b[0m      \u001b[1;92m[\u001b[0m\u001b[1;77m09\u001b[0m\u001b[1;92m]\u001b[0m\u001b[1;93m Origin\u001b[0m          \u001b[1;92m[\u001b[0m\u001b[1;77m17\u001b[0m\u001b[1;92m]\u001b[0m\u001b[1;93m Gitlab\u001b[0m\n",
            "\u001b[1;92m[\u001b[0m\u001b[1;77m02\u001b[0m\u001b[1;92m]\u001b[0m\u001b[1;93m Facebook\u001b[0m       \u001b[1;92m[\u001b[0m\u001b[1;77m10\u001b[0m\u001b[1;92m]\u001b[0m\u001b[1;93m Steam\u001b[0m           \u001b[1;92m[\u001b[0m\u001b[1;77m18\u001b[0m\u001b[1;92m]\u001b[0m\u001b[1;93m Pinterest\u001b[0m\n",
            "\u001b[1;92m[\u001b[0m\u001b[1;77m03\u001b[0m\u001b[1;92m]\u001b[0m\u001b[1;93m Snapchat\u001b[0m       \u001b[1;92m[\u001b[0m\u001b[1;77m11\u001b[0m\u001b[1;92m]\u001b[0m\u001b[1;93m Yahoo\u001b[0m           \u001b[1;92m[\u001b[0m\u001b[1;77m19\u001b[0m\u001b[1;92m]\u001b[0m\u001b[1;93m Custom\u001b[0m\n",
            "\u001b[1;92m[\u001b[0m\u001b[1;77m04\u001b[0m\u001b[1;92m]\u001b[0m\u001b[1;93m Twitter\u001b[0m        \u001b[1;92m[\u001b[0m\u001b[1;77m12\u001b[0m\u001b[1;92m]\u001b[0m\u001b[1;93m Linkedin\u001b[0m        \u001b[1;92m[\u001b[0m\u001b[1;77m99\u001b[0m\u001b[1;92m]\u001b[0m\u001b[1;93m Exit\u001b[0m\n",
            "\u001b[1;92m[\u001b[0m\u001b[1;77m05\u001b[0m\u001b[1;92m]\u001b[0m\u001b[1;93m Github\u001b[0m         \u001b[1;92m[\u001b[0m\u001b[1;77m13\u001b[0m\u001b[1;92m]\u001b[0m\u001b[1;93m Protonmail\u001b[0m\n",
            "\u001b[1;92m[\u001b[0m\u001b[1;77m06\u001b[0m\u001b[1;92m]\u001b[0m\u001b[1;93m Google\u001b[0m         \u001b[1;92m[\u001b[0m\u001b[1;77m14\u001b[0m\u001b[1;92m]\u001b[0m\u001b[1;93m Wordpress\u001b[0m\n",
            "\u001b[1;92m[\u001b[0m\u001b[1;77m07\u001b[0m\u001b[1;92m]\u001b[0m\u001b[1;93m Spotify\u001b[0m        \u001b[1;92m[\u001b[0m\u001b[1;77m15\u001b[0m\u001b[1;92m]\u001b[0m\u001b[1;93m Microsoft\u001b[0m\n",
            "\u001b[1;92m[\u001b[0m\u001b[1;77m08\u001b[0m\u001b[1;92m]\u001b[0m\u001b[1;93m Netflix\u001b[0m        \u001b[1;92m[\u001b[0m\u001b[1;77m16\u001b[0m\u001b[1;92m]\u001b[0m\u001b[1;93m InstaFollowers\u001b[0m\n",
            "\n",
            "\u001b[1;92m[\u001b[0m\u001b[1;77m*\u001b[0m\u001b[1;92m] Choose an option: \u001b[0m6\n",
            "\u001b[1;92m[\u001b[0m*\u001b[1;92m] Downloading Ngrok...\n",
            "\u001b[1;92m[\u001b[0m*\u001b[1;92m] Starting php server...\n",
            "\u001b[1;92m[\u001b[0m*\u001b[1;92m] Starting ngrok server...\n",
            "\u001b[1;92m[\u001b[0m*\u001b[1;92m] Send this link to the Target:\u001b[0m\u001b[1;77m \u001b[0m\n",
            "\n",
            "\u001b[1;93m[\u001b[0m\u001b[1;77m*\u001b[0m\u001b[1;93m] Or using tinyurl:\u001b[0m\u001b[1;77m https://tinyurl.com/yx7zk3hc \n",
            "\n",
            "\n",
            "\u001b[1;92m[\u001b[0m\u001b[1;77m*\u001b[0m\u001b[1;92m] Waiting IPs and Credentials,\u001b[0m\u001b[1;77m Press Ctrl + C to exit...\u001b[0m\n",
            "\n",
            "\n",
            "6\n",
            "5\n",
            "2\n"
          ]
        }
      ]
    },
    {
      "cell_type": "code",
      "source": [
        "\n"
      ],
      "metadata": {
        "id": "MlslLhM3Hlde"
      },
      "execution_count": null,
      "outputs": []
    }
  ]
}